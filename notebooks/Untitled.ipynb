{
 "cells": [
  {
   "cell_type": "code",
   "execution_count": 9,
   "id": "3b8141a6-e793-4c19-8bed-1f0c475357fa",
   "metadata": {},
   "outputs": [],
   "source": [
    "import pandas as pd\n",
    "import numpy as np\n",
    "import matplotlib.pylab as plt\n",
    "import seaborn as sns\n",
    "plt.style.use('ggplot')\n"
   ]
  },
  {
   "cell_type": "code",
   "execution_count": 84,
   "id": "afef0f2a-cec2-4434-9625-c6ab8b4f1bae",
   "metadata": {},
   "outputs": [],
   "source": [
    "dfDisgust = pd.read_csv(\"disgust.csv\")\n",
    "dfFear = pd.read_csv(\"fear.csv\")\n",
    "dfHappy = pd.read_csv(\"happy.csv\")\n",
    "dfSad = pd.read_csv(\"sad.csv\")\n",
    "dfSurprise = pd.read_csv(\"surprise.csv\")"
   ]
  },
  {
   "cell_type": "code",
   "execution_count": 93,
   "id": "b037f926-25b1-4777-bb55-7869c8b9f459",
   "metadata": {},
   "outputs": [],
   "source": [
    "#Remove _key column\n",
    "dfDisgust = dfDisgust.drop(['_key'], axis=1).copy()\n",
    "dfFear = dfFear.drop(['_key'], axis=1).copy()\n",
    "dfHappy = dfHappy.drop(['_key'], axis=1).copy()\n",
    "dfSad = dfSad.drop(['_key'], axis=1).copy()\n",
    "dfSurprise = dfSurprise.drop(['_key'], axis=1).copy()"
   ]
  },
  {
   "cell_type": "code",
   "execution_count": 125,
   "id": "8cd08f99-eb07-45a1-b578-c8a0c8536e50",
   "metadata": {},
   "outputs": [
    {
     "data": {
      "text/plain": [
       "(128, 34)"
      ]
     },
     "execution_count": 125,
     "metadata": {},
     "output_type": "execute_result"
    }
   ],
   "source": [
    "dfDisgust.shape\n"
   ]
  },
  {
   "cell_type": "code",
   "execution_count": 122,
   "id": "b30d73df-4c5b-46be-8ece-210cd28298c4",
   "metadata": {},
   "outputs": [
    {
     "data": {
      "text/plain": [
       "Index(['browOuterUpLeft', 'browOuterUpRight', 'eyeBlinkLeft', 'eyeBlinkRight',\n",
       "       'eyeLookDownLeft', 'eyeLookDownRight', 'eyeLookOutLeft',\n",
       "       'eyeSquintLeft', 'eyeSquintRight', 'mouthPucker', 'browInnerUp',\n",
       "       'eyeLookInRight', 'eyeWideLeft', 'mouthDimpleRight', 'mouthFrownLeft',\n",
       "       'mouthLowerDownRight', 'mouthRight', 'mouthRollLower', 'mouthSmileLeft',\n",
       "       'mouthSmileRight', 'mouthUpperUpLeft', 'mouthUpperUpRight',\n",
       "       'eyeLookUpLeft', 'eyeLookUpRight', 'mouthShrugLower', 'browDownLeft',\n",
       "       'browDownRight', 'eyeLookInLeft', 'mouthDimpleLeft', 'mouthPressLeft',\n",
       "       'jawOpen', 'mouthPressRight', 'mouthRollUpper', 'eyeLookOutRight'],\n",
       "      dtype='object')"
      ]
     },
     "execution_count": 122,
     "metadata": {},
     "output_type": "execute_result"
    }
   ],
   "source": [
    "dfDisgust.columns"
   ]
  },
  {
   "cell_type": "code",
   "execution_count": 37,
   "id": "3a8bdebe-da77-40a1-ab88-5b6262836356",
   "metadata": {},
   "outputs": [
    {
     "data": {
      "text/plain": [
       "browInnerUp             float64\n",
       "browOuterUpLeft         float64\n",
       "browOuterUpRight        float64\n",
       "eyeBlinkLeft            float64\n",
       "eyeLookInRight          float64\n",
       "eyeLookOutLeft          float64\n",
       "eyeLookUpLeft           float64\n",
       "eyeLookUpRight          float64\n",
       "eyeSquintLeft           float64\n",
       "eyeSquintRight          float64\n",
       "mouthLeft               float64\n",
       "mouthPucker             float64\n",
       "browDownLeft            float64\n",
       "browDownRight           float64\n",
       "eyeBlinkRight           float64\n",
       "eyeLookDownLeft         float64\n",
       "eyeLookDownRight        float64\n",
       "eyeLookInLeft           float64\n",
       "eyeLookOutRight         float64\n",
       "mouthDimpleLeft         float64\n",
       "mouthPressLeft          float64\n",
       "mouthRollLower          float64\n",
       "mouthShrugLower         float64\n",
       "mouthFunnel             float64\n",
       "jawOpen                 float64\n",
       "mouthClose              float64\n",
       "mouthPressRight         float64\n",
       "mouthDimpleRight        float64\n",
       "mouthRight              float64\n",
       "mouthRollUpper          float64\n",
       "mouthSmileLeft          float64\n",
       "mouthSmileRight         float64\n",
       "eyeSquintLeftRound      float64\n",
       "browOuterUpLeftRound    float64\n",
       "dtype: object"
      ]
     },
     "execution_count": 37,
     "metadata": {},
     "output_type": "execute_result"
    }
   ],
   "source": [
    "df.dtypes"
   ]
  },
  {
   "cell_type": "code",
   "execution_count": 13,
   "id": "3bc3b365-ad6f-4168-b3b7-4271de6faf81",
   "metadata": {},
   "outputs": [
    {
     "data": {
      "text/plain": [
       "<bound method NDFrame.describe of            _key  browInnerUp  browOuterUpLeft  browOuterUpRight  eyeBlinkLeft  \\\n",
       "0   img1846.jpg     0.142946         0.106610          0.179942      0.197006   \n",
       "1   img2245.jpg          NaN              NaN               NaN      0.228126   \n",
       "2   img1672.jpg     0.124338         0.400172          0.120989      0.238645   \n",
       "3      img9.jpg     0.688832         0.480835          0.381145      0.276494   \n",
       "4    img559.jpg          NaN         0.112556          0.114393      0.387759   \n",
       "..          ...          ...              ...               ...           ...   \n",
       "60  img1927.jpg          NaN         0.473442          0.224349      0.128741   \n",
       "61   img5-1.jpg          NaN         0.104094               NaN      0.229063   \n",
       "62  img2851.jpg          NaN              NaN               NaN           NaN   \n",
       "63  img2236.jpg          NaN         0.468140          0.326871      0.148484   \n",
       "64     img6.jpg          NaN              NaN          0.105840      0.555777   \n",
       "\n",
       "    eyeLookInRight  eyeLookOutLeft  eyeLookUpLeft  eyeLookUpRight  \\\n",
       "0         0.388342        0.389759       0.296542        0.305288   \n",
       "1         0.131691        0.179989       0.270329        0.247327   \n",
       "2              NaN             NaN            NaN             NaN   \n",
       "3         0.192077        0.182393            NaN             NaN   \n",
       "4              NaN             NaN            NaN             NaN   \n",
       "..             ...             ...            ...             ...   \n",
       "60        0.269364        0.300390       0.102413             NaN   \n",
       "61             NaN             NaN            NaN             NaN   \n",
       "62             NaN             NaN       0.133547             NaN   \n",
       "63             NaN             NaN       0.231282        0.230602   \n",
       "64        0.113691        0.110454            NaN             NaN   \n",
       "\n",
       "    eyeSquintLeft  ...  mouthShrugLower  mouthFunnel  jawOpen  mouthClose  \\\n",
       "0        0.520364  ...              NaN          NaN      NaN         NaN   \n",
       "1        0.573207  ...              NaN          NaN      NaN         NaN   \n",
       "2        0.359499  ...              NaN          NaN      NaN         NaN   \n",
       "3        0.641745  ...              NaN          NaN      NaN         NaN   \n",
       "4        0.620796  ...              NaN          NaN      NaN         NaN   \n",
       "..            ...  ...              ...          ...      ...         ...   \n",
       "60       0.501655  ...              NaN          NaN      NaN         NaN   \n",
       "61       0.369749  ...              NaN          NaN      NaN         NaN   \n",
       "62       0.589697  ...              NaN          NaN      NaN         NaN   \n",
       "63       0.537195  ...              NaN          NaN      NaN         NaN   \n",
       "64       0.619498  ...              NaN          NaN      NaN         NaN   \n",
       "\n",
       "    mouthPressRight  mouthDimpleRight  mouthRight  mouthRollUpper  \\\n",
       "0               NaN               NaN         NaN             NaN   \n",
       "1               NaN               NaN         NaN             NaN   \n",
       "2               NaN               NaN         NaN             NaN   \n",
       "3               NaN               NaN         NaN             NaN   \n",
       "4               NaN               NaN         NaN             NaN   \n",
       "..              ...               ...         ...             ...   \n",
       "60              NaN               NaN         NaN             NaN   \n",
       "61              NaN               NaN         NaN             NaN   \n",
       "62              NaN               NaN         NaN             NaN   \n",
       "63              NaN               NaN         NaN             NaN   \n",
       "64              NaN               NaN         NaN             NaN   \n",
       "\n",
       "    mouthSmileLeft  mouthSmileRight  \n",
       "0              NaN              NaN  \n",
       "1              NaN              NaN  \n",
       "2              NaN              NaN  \n",
       "3              NaN              NaN  \n",
       "4              NaN              NaN  \n",
       "..             ...              ...  \n",
       "60             NaN              NaN  \n",
       "61             NaN              NaN  \n",
       "62             NaN              NaN  \n",
       "63             NaN              NaN  \n",
       "64             NaN              NaN  \n",
       "\n",
       "[65 rows x 33 columns]>"
      ]
     },
     "execution_count": 13,
     "metadata": {},
     "output_type": "execute_result"
    }
   ],
   "source": [
    "df.describe"
   ]
  },
  {
   "cell_type": "code",
   "execution_count": 18,
   "id": "fcab94d4-44a5-439d-ba57-d6cf437ecb0b",
   "metadata": {
    "collapsed": true,
    "jupyter": {
     "outputs_hidden": true
    },
    "tags": []
   },
   "outputs": [
    {
     "ename": "KeyError",
     "evalue": "\"['_key'] not found in axis\"",
     "output_type": "error",
     "traceback": [
      "\u001b[1;31m---------------------------------------------------------------------------\u001b[0m",
      "\u001b[1;31mKeyError\u001b[0m                                  Traceback (most recent call last)",
      "Input \u001b[1;32mIn [18]\u001b[0m, in \u001b[0;36m<cell line: 2>\u001b[1;34m()\u001b[0m\n\u001b[0;32m      1\u001b[0m \u001b[38;5;66;03m#Remove key column\u001b[39;00m\n\u001b[1;32m----> 2\u001b[0m df \u001b[38;5;241m=\u001b[39m \u001b[43mdf\u001b[49m\u001b[38;5;241;43m.\u001b[39;49m\u001b[43mdrop\u001b[49m\u001b[43m(\u001b[49m\u001b[43m[\u001b[49m\u001b[38;5;124;43m'\u001b[39;49m\u001b[38;5;124;43m_key\u001b[39;49m\u001b[38;5;124;43m'\u001b[39;49m\u001b[43m]\u001b[49m\u001b[43m,\u001b[49m\u001b[43m \u001b[49m\u001b[43maxis\u001b[49m\u001b[38;5;241;43m=\u001b[39;49m\u001b[38;5;241;43m1\u001b[39;49m\u001b[43m)\u001b[49m\u001b[38;5;241m.\u001b[39mcopy()\n",
      "File \u001b[1;32m~\\anaconda3\\lib\\site-packages\\pandas\\util\\_decorators.py:311\u001b[0m, in \u001b[0;36mdeprecate_nonkeyword_arguments.<locals>.decorate.<locals>.wrapper\u001b[1;34m(*args, **kwargs)\u001b[0m\n\u001b[0;32m    305\u001b[0m \u001b[38;5;28;01mif\u001b[39;00m \u001b[38;5;28mlen\u001b[39m(args) \u001b[38;5;241m>\u001b[39m num_allow_args:\n\u001b[0;32m    306\u001b[0m     warnings\u001b[38;5;241m.\u001b[39mwarn(\n\u001b[0;32m    307\u001b[0m         msg\u001b[38;5;241m.\u001b[39mformat(arguments\u001b[38;5;241m=\u001b[39marguments),\n\u001b[0;32m    308\u001b[0m         \u001b[38;5;167;01mFutureWarning\u001b[39;00m,\n\u001b[0;32m    309\u001b[0m         stacklevel\u001b[38;5;241m=\u001b[39mstacklevel,\n\u001b[0;32m    310\u001b[0m     )\n\u001b[1;32m--> 311\u001b[0m \u001b[38;5;28;01mreturn\u001b[39;00m func(\u001b[38;5;241m*\u001b[39margs, \u001b[38;5;241m*\u001b[39m\u001b[38;5;241m*\u001b[39mkwargs)\n",
      "File \u001b[1;32m~\\anaconda3\\lib\\site-packages\\pandas\\core\\frame.py:4954\u001b[0m, in \u001b[0;36mDataFrame.drop\u001b[1;34m(self, labels, axis, index, columns, level, inplace, errors)\u001b[0m\n\u001b[0;32m   4806\u001b[0m \u001b[38;5;129m@deprecate_nonkeyword_arguments\u001b[39m(version\u001b[38;5;241m=\u001b[39m\u001b[38;5;28;01mNone\u001b[39;00m, allowed_args\u001b[38;5;241m=\u001b[39m[\u001b[38;5;124m\"\u001b[39m\u001b[38;5;124mself\u001b[39m\u001b[38;5;124m\"\u001b[39m, \u001b[38;5;124m\"\u001b[39m\u001b[38;5;124mlabels\u001b[39m\u001b[38;5;124m\"\u001b[39m])\n\u001b[0;32m   4807\u001b[0m \u001b[38;5;28;01mdef\u001b[39;00m \u001b[38;5;21mdrop\u001b[39m(\n\u001b[0;32m   4808\u001b[0m     \u001b[38;5;28mself\u001b[39m,\n\u001b[1;32m   (...)\u001b[0m\n\u001b[0;32m   4815\u001b[0m     errors: \u001b[38;5;28mstr\u001b[39m \u001b[38;5;241m=\u001b[39m \u001b[38;5;124m\"\u001b[39m\u001b[38;5;124mraise\u001b[39m\u001b[38;5;124m\"\u001b[39m,\n\u001b[0;32m   4816\u001b[0m ):\n\u001b[0;32m   4817\u001b[0m     \u001b[38;5;124;03m\"\"\"\u001b[39;00m\n\u001b[0;32m   4818\u001b[0m \u001b[38;5;124;03m    Drop specified labels from rows or columns.\u001b[39;00m\n\u001b[0;32m   4819\u001b[0m \n\u001b[1;32m   (...)\u001b[0m\n\u001b[0;32m   4952\u001b[0m \u001b[38;5;124;03m            weight  1.0     0.8\u001b[39;00m\n\u001b[0;32m   4953\u001b[0m \u001b[38;5;124;03m    \"\"\"\u001b[39;00m\n\u001b[1;32m-> 4954\u001b[0m     \u001b[38;5;28;01mreturn\u001b[39;00m \u001b[38;5;28;43msuper\u001b[39;49m\u001b[43m(\u001b[49m\u001b[43m)\u001b[49m\u001b[38;5;241;43m.\u001b[39;49m\u001b[43mdrop\u001b[49m\u001b[43m(\u001b[49m\n\u001b[0;32m   4955\u001b[0m \u001b[43m        \u001b[49m\u001b[43mlabels\u001b[49m\u001b[38;5;241;43m=\u001b[39;49m\u001b[43mlabels\u001b[49m\u001b[43m,\u001b[49m\n\u001b[0;32m   4956\u001b[0m \u001b[43m        \u001b[49m\u001b[43maxis\u001b[49m\u001b[38;5;241;43m=\u001b[39;49m\u001b[43maxis\u001b[49m\u001b[43m,\u001b[49m\n\u001b[0;32m   4957\u001b[0m \u001b[43m        \u001b[49m\u001b[43mindex\u001b[49m\u001b[38;5;241;43m=\u001b[39;49m\u001b[43mindex\u001b[49m\u001b[43m,\u001b[49m\n\u001b[0;32m   4958\u001b[0m \u001b[43m        \u001b[49m\u001b[43mcolumns\u001b[49m\u001b[38;5;241;43m=\u001b[39;49m\u001b[43mcolumns\u001b[49m\u001b[43m,\u001b[49m\n\u001b[0;32m   4959\u001b[0m \u001b[43m        \u001b[49m\u001b[43mlevel\u001b[49m\u001b[38;5;241;43m=\u001b[39;49m\u001b[43mlevel\u001b[49m\u001b[43m,\u001b[49m\n\u001b[0;32m   4960\u001b[0m \u001b[43m        \u001b[49m\u001b[43minplace\u001b[49m\u001b[38;5;241;43m=\u001b[39;49m\u001b[43minplace\u001b[49m\u001b[43m,\u001b[49m\n\u001b[0;32m   4961\u001b[0m \u001b[43m        \u001b[49m\u001b[43merrors\u001b[49m\u001b[38;5;241;43m=\u001b[39;49m\u001b[43merrors\u001b[49m\u001b[43m,\u001b[49m\n\u001b[0;32m   4962\u001b[0m \u001b[43m    \u001b[49m\u001b[43m)\u001b[49m\n",
      "File \u001b[1;32m~\\anaconda3\\lib\\site-packages\\pandas\\core\\generic.py:4267\u001b[0m, in \u001b[0;36mNDFrame.drop\u001b[1;34m(self, labels, axis, index, columns, level, inplace, errors)\u001b[0m\n\u001b[0;32m   4265\u001b[0m \u001b[38;5;28;01mfor\u001b[39;00m axis, labels \u001b[38;5;129;01min\u001b[39;00m axes\u001b[38;5;241m.\u001b[39mitems():\n\u001b[0;32m   4266\u001b[0m     \u001b[38;5;28;01mif\u001b[39;00m labels \u001b[38;5;129;01mis\u001b[39;00m \u001b[38;5;129;01mnot\u001b[39;00m \u001b[38;5;28;01mNone\u001b[39;00m:\n\u001b[1;32m-> 4267\u001b[0m         obj \u001b[38;5;241m=\u001b[39m \u001b[43mobj\u001b[49m\u001b[38;5;241;43m.\u001b[39;49m\u001b[43m_drop_axis\u001b[49m\u001b[43m(\u001b[49m\u001b[43mlabels\u001b[49m\u001b[43m,\u001b[49m\u001b[43m \u001b[49m\u001b[43maxis\u001b[49m\u001b[43m,\u001b[49m\u001b[43m \u001b[49m\u001b[43mlevel\u001b[49m\u001b[38;5;241;43m=\u001b[39;49m\u001b[43mlevel\u001b[49m\u001b[43m,\u001b[49m\u001b[43m \u001b[49m\u001b[43merrors\u001b[49m\u001b[38;5;241;43m=\u001b[39;49m\u001b[43merrors\u001b[49m\u001b[43m)\u001b[49m\n\u001b[0;32m   4269\u001b[0m \u001b[38;5;28;01mif\u001b[39;00m inplace:\n\u001b[0;32m   4270\u001b[0m     \u001b[38;5;28mself\u001b[39m\u001b[38;5;241m.\u001b[39m_update_inplace(obj)\n",
      "File \u001b[1;32m~\\anaconda3\\lib\\site-packages\\pandas\\core\\generic.py:4311\u001b[0m, in \u001b[0;36mNDFrame._drop_axis\u001b[1;34m(self, labels, axis, level, errors, consolidate, only_slice)\u001b[0m\n\u001b[0;32m   4309\u001b[0m         new_axis \u001b[38;5;241m=\u001b[39m axis\u001b[38;5;241m.\u001b[39mdrop(labels, level\u001b[38;5;241m=\u001b[39mlevel, errors\u001b[38;5;241m=\u001b[39merrors)\n\u001b[0;32m   4310\u001b[0m     \u001b[38;5;28;01melse\u001b[39;00m:\n\u001b[1;32m-> 4311\u001b[0m         new_axis \u001b[38;5;241m=\u001b[39m \u001b[43maxis\u001b[49m\u001b[38;5;241;43m.\u001b[39;49m\u001b[43mdrop\u001b[49m\u001b[43m(\u001b[49m\u001b[43mlabels\u001b[49m\u001b[43m,\u001b[49m\u001b[43m \u001b[49m\u001b[43merrors\u001b[49m\u001b[38;5;241;43m=\u001b[39;49m\u001b[43merrors\u001b[49m\u001b[43m)\u001b[49m\n\u001b[0;32m   4312\u001b[0m     indexer \u001b[38;5;241m=\u001b[39m axis\u001b[38;5;241m.\u001b[39mget_indexer(new_axis)\n\u001b[0;32m   4314\u001b[0m \u001b[38;5;66;03m# Case for non-unique axis\u001b[39;00m\n\u001b[0;32m   4315\u001b[0m \u001b[38;5;28;01melse\u001b[39;00m:\n",
      "File \u001b[1;32m~\\anaconda3\\lib\\site-packages\\pandas\\core\\indexes\\base.py:6644\u001b[0m, in \u001b[0;36mIndex.drop\u001b[1;34m(self, labels, errors)\u001b[0m\n\u001b[0;32m   6642\u001b[0m \u001b[38;5;28;01mif\u001b[39;00m mask\u001b[38;5;241m.\u001b[39many():\n\u001b[0;32m   6643\u001b[0m     \u001b[38;5;28;01mif\u001b[39;00m errors \u001b[38;5;241m!=\u001b[39m \u001b[38;5;124m\"\u001b[39m\u001b[38;5;124mignore\u001b[39m\u001b[38;5;124m\"\u001b[39m:\n\u001b[1;32m-> 6644\u001b[0m         \u001b[38;5;28;01mraise\u001b[39;00m \u001b[38;5;167;01mKeyError\u001b[39;00m(\u001b[38;5;124mf\u001b[39m\u001b[38;5;124m\"\u001b[39m\u001b[38;5;132;01m{\u001b[39;00m\u001b[38;5;28mlist\u001b[39m(labels[mask])\u001b[38;5;132;01m}\u001b[39;00m\u001b[38;5;124m not found in axis\u001b[39m\u001b[38;5;124m\"\u001b[39m)\n\u001b[0;32m   6645\u001b[0m     indexer \u001b[38;5;241m=\u001b[39m indexer[\u001b[38;5;241m~\u001b[39mmask]\n\u001b[0;32m   6646\u001b[0m \u001b[38;5;28;01mreturn\u001b[39;00m \u001b[38;5;28mself\u001b[39m\u001b[38;5;241m.\u001b[39mdelete(indexer)\n",
      "\u001b[1;31mKeyError\u001b[0m: \"['_key'] not found in axis\""
     ]
    }
   ],
   "source": [
    "#Remove key column\n",
    "df = df.drop(['_key'], axis=1)"
   ]
  },
  {
   "cell_type": "code",
   "execution_count": 113,
   "id": "76bcf9ab-6238-4e8b-8351-e4cfc6353d49",
   "metadata": {},
   "outputs": [
    {
     "data": {
      "text/plain": [
       "browOuterUpLeft        float64\n",
       "browOuterUpRight       float64\n",
       "eyeBlinkLeft           float64\n",
       "eyeBlinkRight          float64\n",
       "eyeLookDownLeft        float64\n",
       "eyeLookDownRight       float64\n",
       "eyeLookOutLeft         float64\n",
       "eyeSquintLeft          float64\n",
       "eyeSquintRight         float64\n",
       "mouthPucker            float64\n",
       "browInnerUp            float64\n",
       "eyeLookInRight         float64\n",
       "mouthDimpleRight       float64\n",
       "mouthFrownLeft         float64\n",
       "mouthLowerDownRight    float64\n",
       "mouthRight             float64\n",
       "mouthRollLower         float64\n",
       "mouthSmileLeft         float64\n",
       "mouthSmileRight        float64\n",
       "mouthUpperUpLeft       float64\n",
       "mouthUpperUpRight      float64\n",
       "eyeLookUpLeft          float64\n",
       "eyeLookUpRight         float64\n",
       "mouthShrugLower        float64\n",
       "browDownLeft           float64\n",
       "browDownRight          float64\n",
       "eyeLookInLeft          float64\n",
       "mouthDimpleLeft        float64\n",
       "mouthPressLeft         float64\n",
       "jawOpen                float64\n",
       "mouthPressRight        float64\n",
       "mouthRollUpper         float64\n",
       "eyeLookOutRight        float64\n",
       "dtype: object"
      ]
     },
     "execution_count": 113,
     "metadata": {},
     "output_type": "execute_result"
    }
   ],
   "source": [
    "dfSad.dtypes"
   ]
  },
  {
   "cell_type": "code",
   "execution_count": null,
   "id": "f7ed67c3-5a28-4bf6-a458-1057506d9980",
   "metadata": {},
   "outputs": [],
   "source": [
    "#Examples\n",
    "#Change column names\n",
    "# df.rename(columns={'browInnerUp':'newName', ...})"
   ]
  },
  {
   "cell_type": "code",
   "execution_count": 119,
   "id": "bd839293-c07c-4724-a6aa-7076dd160265",
   "metadata": {},
   "outputs": [
    {
     "name": "stdout",
     "output_type": "stream",
     "text": [
      "eyeSquintRight           0\n",
      "eyeSquintLeft            1\n",
      "eyeBlinkLeft            10\n",
      "eyeBlinkRight           16\n",
      "eyeLookDownRight        32\n",
      "eyeLookDownLeft         34\n",
      "browOuterUpLeft         35\n",
      "mouthPucker             44\n",
      "eyeLookInRight          47\n",
      "browOuterUpRight        49\n",
      "eyeLookOutLeft          50\n",
      "browInnerUp             73\n",
      "eyeLookUpRight          92\n",
      "eyeLookUpLeft           95\n",
      "eyeLookInLeft          114\n",
      "mouthPressRight        118\n",
      "mouthPressLeft         119\n",
      "eyeLookOutRight        120\n",
      "browDownLeft           121\n",
      "browDownRight          121\n",
      "mouthShrugLower        123\n",
      "mouthRollLower         123\n",
      "mouthRollUpper         125\n",
      "mouthDimpleLeft        125\n",
      "mouthDimpleRight       125\n",
      "mouthSmileLeft         127\n",
      "mouthSmileRight        127\n",
      "mouthUpperUpLeft       127\n",
      "mouthUpperUpRight      127\n",
      "mouthLowerDownRight    127\n",
      "mouthFrownLeft         127\n",
      "jawOpen                127\n",
      "eyeWideLeft            127\n",
      "mouthRight             127\n",
      "dtype: int64\n"
     ]
    }
   ],
   "source": [
    "#missing values\n",
    "x = dfDisgust.isna().sum()\n",
    "print(x.sort_values())\n",
    "\n"
   ]
  },
  {
   "cell_type": "code",
   "execution_count": null,
   "id": "ddcc380f-7b6b-4837-b2e3-85aa71469e0f",
   "metadata": {},
   "outputs": [],
   "source": []
  },
  {
   "cell_type": "code",
   "execution_count": 27,
   "id": "d5006f1c-b9eb-4cfd-9b0a-572dbfc5e1ab",
   "metadata": {},
   "outputs": [],
   "source": [
    "df['eyeSquintLeftRound'] = df['eyeSquintLeft'].round(2)"
   ]
  },
  {
   "cell_type": "code",
   "execution_count": 30,
   "id": "ca735290-fa19-4fcd-91bf-126a54bd3202",
   "metadata": {},
   "outputs": [
    {
     "data": {
      "text/plain": [
       "<AxesSubplot:>"
      ]
     },
     "execution_count": 30,
     "metadata": {},
     "output_type": "execute_result"
    },
    {
     "data": {
      "image/png": "[encoded data removed]",
      "text/plain": [
       "<Figure size 432x288 with 1 Axes>"
      ]
     },
     "metadata": {},
     "output_type": "display_data"
    }
   ],
   "source": [
    "df['eyeSquintLeftRound'].value_counts()\\\n",
    ".head(10)\\\n",
    ".plot(kind='bar')\n"
   ]
  },
  {
   "cell_type": "code",
   "execution_count": 31,
   "id": "48011173-a20d-458f-adc9-23284b7227f3",
   "metadata": {},
   "outputs": [],
   "source": [
    "df['browOuterUpLeftRound'] = df['browOuterUpLeft'].round(2)"
   ]
  },
  {
   "cell_type": "code",
   "execution_count": 32,
   "id": "5e06521c-1813-4a0a-877b-4df3be5681b9",
   "metadata": {},
   "outputs": [
    {
     "data": {
      "text/plain": [
       "<AxesSubplot:ylabel='Density'>"
      ]
     },
     "execution_count": 32,
     "metadata": {},
     "output_type": "execute_result"
    },
    {
     "data": {
      "image/png": "[encoded data removed]",
      "text/plain": [
       "<Figure size 432x288 with 1 Axes>"
      ]
     },
     "metadata": {},
     "output_type": "display_data"
    }
   ],
   "source": [
    "df['browOuterUpLeftRound'].plot(kind='kde')\n"
   ]
  },
  {
   "cell_type": "code",
   "execution_count": 106,
   "id": "9ad4110f-cfdf-4e0b-b36d-2cc567a67392",
   "metadata": {},
   "outputs": [],
   "source": [
    "dfSad = dfSad.drop(['eyeWideLeft'], axis=1)"
   ]
  },
  {
   "cell_type": "code",
   "execution_count": 35,
   "id": "11fd4e05-e8f4-49ad-8752-dbc155756f8d",
   "metadata": {},
   "outputs": [
    {
     "data": {
      "text/plain": [
       "<AxesSubplot:xlabel='browOuterUpLeft', ylabel='browOuterUpRight'>"
      ]
     },
     "execution_count": 35,
     "metadata": {},
     "output_type": "execute_result"
    },
    {
     "data": {
      "image/png": "[encoded data removed]",
      "text/plain": [
       "<Figure size 432x288 with 1 Axes>"
      ]
     },
     "metadata": {},
     "output_type": "display_data"
    }
   ],
   "source": [
    "df.plot(kind='scatter', x='browOuterUpLeft', y='browOuterUpRight')"
   ]
  },
  {
   "cell_type": "code",
   "execution_count": 36,
   "id": "34e89731-7e81-4efb-a290-f3168ca94734",
   "metadata": {},
   "outputs": [
    {
     "data": {
      "text/plain": [
       "<AxesSubplot:xlabel='browOuterUpLeft', ylabel='browOuterUpRight'>"
      ]
     },
     "execution_count": 36,
     "metadata": {},
     "output_type": "execute_result"
    },
    {
     "data": {
      "image/png": "[encoded data removed]",
      "text/plain": [
       "<Figure size 432x288 with 1 Axes>"
      ]
     },
     "metadata": {},
     "output_type": "display_data"
    }
   ],
   "source": [
    "sns.scatterplot( x='browOuterUpLeft', y='browOuterUpRight', data=df)"
   ]
  },
  {
   "cell_type": "code",
   "execution_count": 117,
   "id": "05e56726-3380-4228-a015-3f96ac6e28bb",
   "metadata": {
    "tags": []
   },
   "outputs": [
    {
     "name": "stdout",
     "output_type": "stream",
     "text": [
      "93 values in column\n",
      "mean = 0.3136179599390235 | median = 0.29 | mode = 0.22    6\n",
      "Name: browOuterUpLeft, dtype: int64\n",
      "\n",
      "79 values in column\n",
      "mean = 0.21669193064864678 | median = 0.2 | mode = 0.18    8\n",
      "Name: browOuterUpRight, dtype: int64\n",
      "\n",
      "118 values in column\n",
      "mean = 0.3030166233873973 | median = 0.23 | mode = 0.18    13\n",
      "Name: eyeBlinkLeft, dtype: int64\n",
      "\n",
      "112 values in column\n",
      "mean = 0.29516801883333493 | median = 0.24 | mode = 0.17    11\n",
      "Name: eyeBlinkRight, dtype: int64\n",
      "\n",
      "94 values in column\n",
      "mean = 0.3130425433529184 | median = 0.24 | mode = 0.12    8\n",
      "Name: eyeLookDownLeft, dtype: int64\n",
      "\n",
      "96 values in column\n",
      "mean = 0.3075774200260639 | median = 0.25 | mode = 0.18    5\n",
      "Name: eyeLookDownRight, dtype: int64\n",
      "\n",
      "78 values in column\n",
      "mean = 0.19244298233817786 | median = 0.18 | mode = 0.18    9\n",
      "Name: eyeLookOutLeft, dtype: int64\n",
      "\n",
      "127 values in column\n",
      "mean = 0.5243520753120813 | median = 0.5 | mode = 0.45    8\n",
      "Name: eyeSquintLeft, dtype: int64\n",
      "\n",
      "128 values in column\n",
      "mean = 0.45037671795580536 | median = 0.44 | mode = 0.34    8\n",
      "Name: eyeSquintRight, dtype: int64\n",
      "\n",
      "84 values in column\n",
      "mean = 0.49257288181356024 | median = 0.46499999999999997 | mode = 0.22    5\n",
      "Name: mouthPucker, dtype: int64\n",
      "\n",
      "55 values in column\n",
      "mean = 0.32702650820667095 | median = 0.32 | mode = 0.22    4\n",
      "Name: browInnerUp, dtype: int64\n",
      "\n",
      "81 values in column\n",
      "mean = 0.1867713123375987 | median = 0.17 | mode = 0.18    9\n",
      "Name: eyeLookInRight, dtype: int64\n",
      "\n",
      "33 values in column\n",
      "mean = 0.1675361401655457 | median = 0.15 | mode = 0.14    6\n",
      "Name: eyeLookUpLeft, dtype: int64\n",
      "\n",
      "36 values in column\n",
      "mean = 0.16241320098439851 | median = 0.155 | mode = 0.11    5\n",
      "Name: eyeLookUpRight, dtype: int64\n",
      "\n",
      "7 values in column\n",
      "mean = 0.13054178974458147 | median = 0.12 | mode = 0.14    2\n",
      "Name: browDownLeft, dtype: int64\n",
      "\n",
      "7 values in column\n",
      "mean = 0.16666013641016816 | median = 0.15 | mode = 0.15    2\n",
      "Name: browDownRight, dtype: int64\n",
      "\n",
      "14 values in column\n",
      "mean = 0.1370960399508476 | median = 0.135 | mode = 0.15    4\n",
      "Name: eyeLookInLeft, dtype: int64\n",
      "\n",
      "9 values in column\n",
      "mean = 0.2863103383117252 | median = 0.25 | mode = 0.11    2\n",
      "Name: mouthPressLeft, dtype: int64\n",
      "\n",
      "10 values in column\n",
      "mean = 0.21252012103796 | median = 0.15000000000000002 | mode = 0.12    3\n",
      "Name: mouthPressRight, dtype: int64\n",
      "\n",
      "8 values in column\n",
      "mean = 0.13424298912286756 | median = 0.125 | mode = 0.14    2\n",
      "Name: eyeLookOutRight, dtype: int64\n",
      "\n"
     ]
    }
   ],
   "source": [
    "# Iterate over column names\n",
    "for column in dfSad:\n",
    "     \n",
    "    # Select column contents by column\n",
    "    # name using [] operator\n",
    "    #columnSeriesObj = df[column]\n",
    "    clear = dfSad[column].dropna()\n",
    "    count = clear.value_counts().sum()\n",
    "    if count > 5:\n",
    "        rounded = clear.round(2)\n",
    "    #print(rounded)\n",
    "        count = rounded.value_counts().sum()\n",
    "        mode = rounded.value_counts().head(1)\n",
    "        me = rounded.median()\n",
    "        avg = clear.mean()\n",
    "        print(str(count) + \" values in column\")\n",
    "        print(\"mean = \"+ str(avg) + \" | median = \" + str(me) + \" | mode = \" + str(mode) +\"\\n\")\n",
    "   \n",
    "    "
   ]
  },
  {
   "cell_type": "code",
   "execution_count": 116,
   "id": "3fac32ce-dc05-4910-b0f4-8a3e0a0a7f15",
   "metadata": {},
   "outputs": [
    {
     "name": "stdout",
     "output_type": "stream",
     "text": [
      "93\n",
      "79\n",
      "118\n",
      "112\n",
      "94\n",
      "96\n",
      "78\n",
      "127\n",
      "128\n",
      "84\n",
      "55\n",
      "81\n",
      "33\n",
      "36\n",
      "7\n",
      "7\n",
      "14\n",
      "9\n",
      "10\n",
      "8\n"
     ]
    }
   ],
   "source": [
    "for column in dfSad:\n",
    "     \n",
    "    # Select column contents by column\n",
    "    # name using [] operator\n",
    "    #columnSeriesObj = df[column]\n",
    "    clear = dfSad[column].dropna()\n",
    "    count = clear.value_counts().sum()\n",
    "    \n",
    "    if count > 5:\n",
    "        print(count)\n",
    "       # rounded = clear.round(2)\n",
    "    #print(rounded)\n",
    "        #count = rounded.value_counts().sum()\n",
    "       # mode = rounded.value_counts().head(1)\n",
    "      #  me = rounded.median()\n",
    "      #  avg = clear.mean()\n",
    "      #  print(str(count) + \" values in column\")\n",
    "      #  print(\"mean = \"+ str(avg) + \" | median = \" + str(me) + \" | mode = \" + str(mode) +\"\\n\")"
   ]
  },
  {
   "cell_type": "code",
   "execution_count": 114,
   "id": "b64be3ef-c1ff-48c0-a119-6135e7090820",
   "metadata": {},
   "outputs": [
    {
     "name": "stdout",
     "output_type": "stream",
     "text": [
      "1\n"
     ]
    }
   ],
   "source": [
    "    clear = dfSad['mouthFrownLeft'].dropna()\n",
    "   \n",
    "    print(clear.value_counts().sum())\n",
    "    "
   ]
  },
  {
   "cell_type": "code",
   "execution_count": 83,
   "id": "9e764966-3ee6-4357-b58f-b7c7bd889319",
   "metadata": {},
   "outputs": [
    {
     "name": "stdout",
     "output_type": "stream",
     "text": [
      "33    0.689752\n",
      "8     0.653527\n",
      "13    0.510194\n",
      "14    0.492319\n",
      "17    0.417219\n",
      "54    0.408151\n",
      "43    0.386924\n",
      "3     0.381145\n",
      "19    0.379804\n",
      "20    0.351187\n",
      "16    0.346444\n",
      "18    0.341732\n",
      "36    0.339890\n",
      "56    0.332685\n",
      "63    0.326871\n",
      "32    0.299525\n",
      "26    0.289326\n",
      "51    0.269835\n",
      "21    0.262736\n",
      "5     0.248474\n",
      "45    0.239524\n",
      "12    0.230582\n",
      "60    0.224349\n",
      "6     0.209752\n",
      "35    0.207933\n",
      "10    0.199746\n",
      "41    0.189970\n",
      "0     0.179942\n",
      "38    0.175595\n",
      "9     0.170265\n",
      "47    0.168825\n",
      "52    0.161693\n",
      "58    0.159773\n",
      "23    0.147597\n",
      "22    0.147161\n",
      "50    0.132724\n",
      "2     0.120989\n",
      "4     0.114393\n",
      "29    0.110947\n",
      "64    0.105840\n",
      "Name: browOuterUpRight, dtype: float64\n"
     ]
    }
   ],
   "source": [
    " clear = df['browOuterUpRight'].dropna()\n",
    "\n",
    "print(clear.sort_values(ascending=False))"
   ]
  }
 ],
 "metadata": {
  "kernelspec": {
   "display_name": "Python 3 (ipykernel)",
   "language": "python",
   "name": "python3"
  },
  "language_info": {
   "codemirror_mode": {
    "name": "ipython",
    "version": 3
   },
   "file_extension": ".py",
   "mimetype": "text/x-python",
   "name": "python",
   "nbconvert_exporter": "python",
   "pygments_lexer": "ipython3",
   "version": "3.9.12"
  }
 },
 "nbformat": 4,
 "nbformat_minor": 5
}
